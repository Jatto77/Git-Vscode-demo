{
 "cells": [
  {
   "cell_type": "markdown",
   "metadata": {},
   "source": [
    "# ASK\n",
    "\n",
    "## Business task: \n",
    "To understand how annual members and casual riders differ, why casual riders would buy a membership, and how digital media could affect their marketing tactics.The answers to this questions would help us find recommendations on how to encourage casual riders to become members\n",
    "\n",
    "# PREPARE\n",
    "\n",
    "## Data source and information: \n",
    "1.This data publicly available on 'https://divvy-tripdata.s3.amazonaws.com/index.html'.\n",
    "2.This data is made available by Motivate International Inc. \n",
    "3.Although this is a public data but the  data-privacy issues prohibit us from using riders’ personally identifiable information. This means that we won’t be able to connect pass purchases to credit card numbers to determine if casual riders live in the Cyclistic service area or if they have purchased multiple single passes.This prevents us from knowing how often the same rider uses the biking service\n",
    "4.Some Data to take note of are start station,end station, start and end ride times,member and casual rider,latitude and longitude\n",
    "\n",
    "# PROCESS\n",
    "\n",
    "  I decided to use python to process this data because i prefer its syntax to R.\n",
    "  \n",
    "  1.I merged the data 2020-2021.\n",
    "  2.Drop duplicates\n",
    "  3.Drop rows with inconsistent time where the start time was later than the end time\n",
    "  4.Added columns for trip time in hours and minutes\n",
    "  5.Added columns for Days of the week(DOW) ride started and ended\n",
    "  6.Added columns for month(MON) ride started and ended \n",
    "  7.Drop data lower than the lower limit and data higher than the upper limit\n",
    "\n",
    "\n",
    "\n",
    "\n"
   ]
  },
  {
   "cell_type": "code",
   "execution_count": 1,
   "metadata": {},
   "outputs": [],
   "source": [
    "#import files using pandas and change date to datetime\n",
    "\n",
    "import pandas as pd \n",
    "import numpy as np\n",
    "\n",
    "\n",
    "df1= pd.read_csv(r'C:\\Users\\user\\Desktop\\Google capstone\\202004-divvy-tripdata.csv',sep =',', parse_dates=['started_at','ended_at'])\n",
    "df2= pd.read_csv(r'C:\\Users\\user\\Desktop\\Google capstone\\202005-divvy-tripdata.csv',sep =',', parse_dates=['started_at','ended_at'])\n",
    "df3= pd.read_csv(r'C:\\Users\\user\\Desktop\\Google capstone\\202006-divvy-tripdata.csv',sep =',', parse_dates=['started_at','ended_at'])\n",
    "df4= pd.read_csv(r'C:\\Users\\user\\Desktop\\Google capstone\\202007-divvy-tripdata.csv',sep =',',parse_dates=['started_at','ended_at'])\n",
    "df5= pd.read_csv(r'C:\\Users\\user\\Desktop\\Google capstone\\202008-divvy-tripdata.csv',sep =',', parse_dates=['started_at','ended_at'])\n",
    "df6= pd.read_csv(r'C:\\Users\\user\\Desktop\\Google capstone\\202009-divvy-tripdata.csv',sep =',',parse_dates=['started_at','ended_at'])\n"
   ]
  },
  {
   "cell_type": "code",
   "execution_count": 2,
   "metadata": {},
   "outputs": [],
   "source": [
    "df7= pd.read_csv(r'C:\\Users\\user\\Desktop\\Google capstone\\202010-divvy-tripdata.csv',sep =',',parse_dates=['started_at','ended_at'])\n",
    "df8= pd.read_csv(r'C:\\Users\\user\\Desktop\\Google capstone\\202011-divvy-tripdata.csv',sep =',',parse_dates=['started_at','ended_at'])\n",
    "df9= pd.read_csv(r'C:\\Users\\user\\Desktop\\Google capstone\\202012-divvy-tripdata.csv',sep =',',parse_dates=['started_at','ended_at'])\n",
    "df10= pd.read_csv(r'C:\\Users\\user\\Desktop\\Google capstone\\202101-divvy-tripdata.csv',sep =',',parse_dates=['started_at','ended_at'])\n",
    "df11= pd.read_csv(r'C:\\Users\\user\\Desktop\\Google capstone\\202102-divvy-tripdata.csv',sep =',',parse_dates=['started_at','ended_at'])\n",
    "df12= pd.read_csv(r'C:\\Users\\user\\Desktop\\Google capstone\\202103-divvy-tripdata.csv',sep =',',parse_dates=['started_at','ended_at'])\n"
   ]
  },
  {
   "cell_type": "code",
   "execution_count": 3,
   "metadata": {},
   "outputs": [],
   "source": [
    "data_frames= [df1,df2,df3,df4,df5,df6,df7,df8,df9,df10,df11,df12]\n"
   ]
  },
  {
   "cell_type": "code",
   "execution_count": 4,
   "metadata": {},
   "outputs": [],
   "source": [
    "#merge data using pandas concat\n",
    "# drop duplicates\n",
    "merged_data = pd.concat(data_frames, ignore_index=True).drop_duplicates(subset= ['ride_id'])"
   ]
  },
  {
   "cell_type": "code",
   "execution_count": 5,
   "metadata": {},
   "outputs": [],
   "source": [
    "# drop row if the column \"started_at\" > \"ended_at\"\n",
    "filt = merged_data['started_at'] > merged_data['ended_at']\n",
    "\n",
    "\n",
    "merged_data.drop(merged_data.index[filt], inplace=True)"
   ]
  },
  {
   "cell_type": "code",
   "execution_count": 6,
   "metadata": {},
   "outputs": [],
   "source": [
    "#create new column for trip time in hours\n",
    "merged_data['TrpTIme_in_hrs'] = (merged_data['ended_at'] - merged_data['started_at'])"
   ]
  },
  {
   "cell_type": "code",
   "execution_count": 7,
   "metadata": {},
   "outputs": [],
   "source": [
    "# create a column for triptime in minutes \n",
    "merged_data['trip_time_minutes']= (merged_data['TrpTIme_in_hrs'].dt.total_seconds())/60"
   ]
  },
  {
   "cell_type": "code",
   "execution_count": 8,
   "metadata": {},
   "outputs": [],
   "source": [
    "# create columns for Days of the week when trip started and ended\n",
    "merged_data['DOW(strt_trip)']= merged_data['started_at'].dt.day_name()\n",
    "merged_data['DOW(End_trip)']= merged_data['ended_at'].dt.day_name()"
   ]
  },
  {
   "cell_type": "code",
   "execution_count": 9,
   "metadata": {},
   "outputs": [],
   "source": [
    "# create a column for months trip started\n",
    "merged_data['MON(strt_trip)']= merged_data['started_at'].dt.month_name()"
   ]
  },
  {
   "cell_type": "code",
   "execution_count": 10,
   "metadata": {},
   "outputs": [],
   "source": [
    "new = merged_data['started_at']"
   ]
  },
  {
   "cell_type": "code",
   "execution_count": 11,
   "metadata": {},
   "outputs": [],
   "source": [
    "#add a column(started_at) for 12hrs datetime\n",
    "merged_data['timetrip_started(12hrs)'] = new.dt.strftime('%I:%M:%S %p')"
   ]
  },
  {
   "cell_type": "code",
   "execution_count": 12,
   "metadata": {},
   "outputs": [],
   "source": [
    "new2 = merged_data['ended_at']"
   ]
  },
  {
   "cell_type": "code",
   "execution_count": 13,
   "metadata": {},
   "outputs": [],
   "source": [
    "#add a column(ended_at) for 12hrs datetime\n",
    "merged_data['timetrip_ended(12hrs)'] = new2.dt.strftime('%I:%M:%S %p')"
   ]
  },
  {
   "cell_type": "code",
   "execution_count": 14,
   "metadata": {},
   "outputs": [
    {
     "data": {
      "text/html": [
       "<div>\n",
       "<style scoped>\n",
       "    .dataframe tbody tr th:only-of-type {\n",
       "        vertical-align: middle;\n",
       "    }\n",
       "\n",
       "    .dataframe tbody tr th {\n",
       "        vertical-align: top;\n",
       "    }\n",
       "\n",
       "    .dataframe thead th {\n",
       "        text-align: right;\n",
       "    }\n",
       "</style>\n",
       "<table border=\"1\" class=\"dataframe\">\n",
       "  <thead>\n",
       "    <tr style=\"text-align: right;\">\n",
       "      <th></th>\n",
       "      <th>ride_id</th>\n",
       "      <th>rideable_type</th>\n",
       "      <th>started_at</th>\n",
       "      <th>ended_at</th>\n",
       "      <th>start_station_name</th>\n",
       "      <th>start_station_id</th>\n",
       "      <th>end_station_name</th>\n",
       "      <th>end_station_id</th>\n",
       "      <th>start_lat</th>\n",
       "      <th>start_lng</th>\n",
       "      <th>end_lat</th>\n",
       "      <th>end_lng</th>\n",
       "      <th>member_casual</th>\n",
       "      <th>TrpTIme_in_hrs</th>\n",
       "      <th>trip_time_minutes</th>\n",
       "      <th>DOW(strt_trip)</th>\n",
       "      <th>DOW(End_trip)</th>\n",
       "      <th>MON(strt_trip)</th>\n",
       "      <th>timetrip_started(12hrs)</th>\n",
       "      <th>timetrip_ended(12hrs)</th>\n",
       "    </tr>\n",
       "  </thead>\n",
       "  <tbody>\n",
       "    <tr>\n",
       "      <th>0</th>\n",
       "      <td>A847FADBBC638E45</td>\n",
       "      <td>docked_bike</td>\n",
       "      <td>2020-04-26 17:45:14</td>\n",
       "      <td>2020-04-26 18:12:03</td>\n",
       "      <td>Eckhart Park</td>\n",
       "      <td>86</td>\n",
       "      <td>Lincoln Ave &amp; Diversey Pkwy</td>\n",
       "      <td>152.0</td>\n",
       "      <td>41.8964</td>\n",
       "      <td>-87.6610</td>\n",
       "      <td>41.9322</td>\n",
       "      <td>-87.6586</td>\n",
       "      <td>member</td>\n",
       "      <td>0 days 00:26:49</td>\n",
       "      <td>26.816667</td>\n",
       "      <td>Sunday</td>\n",
       "      <td>Sunday</td>\n",
       "      <td>April</td>\n",
       "      <td>05:45:14 PM</td>\n",
       "      <td>06:12:03 PM</td>\n",
       "    </tr>\n",
       "    <tr>\n",
       "      <th>1</th>\n",
       "      <td>5405B80E996FF60D</td>\n",
       "      <td>docked_bike</td>\n",
       "      <td>2020-04-17 17:08:54</td>\n",
       "      <td>2020-04-17 17:17:03</td>\n",
       "      <td>Drake Ave &amp; Fullerton Ave</td>\n",
       "      <td>503</td>\n",
       "      <td>Kosciuszko Park</td>\n",
       "      <td>499.0</td>\n",
       "      <td>41.9244</td>\n",
       "      <td>-87.7154</td>\n",
       "      <td>41.9306</td>\n",
       "      <td>-87.7238</td>\n",
       "      <td>member</td>\n",
       "      <td>0 days 00:08:09</td>\n",
       "      <td>8.150000</td>\n",
       "      <td>Friday</td>\n",
       "      <td>Friday</td>\n",
       "      <td>April</td>\n",
       "      <td>05:08:54 PM</td>\n",
       "      <td>05:17:03 PM</td>\n",
       "    </tr>\n",
       "    <tr>\n",
       "      <th>2</th>\n",
       "      <td>5DD24A79A4E006F4</td>\n",
       "      <td>docked_bike</td>\n",
       "      <td>2020-04-01 17:54:13</td>\n",
       "      <td>2020-04-01 18:08:36</td>\n",
       "      <td>McClurg Ct &amp; Erie St</td>\n",
       "      <td>142</td>\n",
       "      <td>Indiana Ave &amp; Roosevelt Rd</td>\n",
       "      <td>255.0</td>\n",
       "      <td>41.8945</td>\n",
       "      <td>-87.6179</td>\n",
       "      <td>41.8679</td>\n",
       "      <td>-87.6230</td>\n",
       "      <td>member</td>\n",
       "      <td>0 days 00:14:23</td>\n",
       "      <td>14.383333</td>\n",
       "      <td>Wednesday</td>\n",
       "      <td>Wednesday</td>\n",
       "      <td>April</td>\n",
       "      <td>05:54:13 PM</td>\n",
       "      <td>06:08:36 PM</td>\n",
       "    </tr>\n",
       "    <tr>\n",
       "      <th>3</th>\n",
       "      <td>2A59BBDF5CDBA725</td>\n",
       "      <td>docked_bike</td>\n",
       "      <td>2020-04-07 12:50:19</td>\n",
       "      <td>2020-04-07 13:02:31</td>\n",
       "      <td>California Ave &amp; Division St</td>\n",
       "      <td>216</td>\n",
       "      <td>Wood St &amp; Augusta Blvd</td>\n",
       "      <td>657.0</td>\n",
       "      <td>41.9030</td>\n",
       "      <td>-87.6975</td>\n",
       "      <td>41.8992</td>\n",
       "      <td>-87.6722</td>\n",
       "      <td>member</td>\n",
       "      <td>0 days 00:12:12</td>\n",
       "      <td>12.200000</td>\n",
       "      <td>Tuesday</td>\n",
       "      <td>Tuesday</td>\n",
       "      <td>April</td>\n",
       "      <td>12:50:19 PM</td>\n",
       "      <td>01:02:31 PM</td>\n",
       "    </tr>\n",
       "    <tr>\n",
       "      <th>4</th>\n",
       "      <td>27AD306C119C6158</td>\n",
       "      <td>docked_bike</td>\n",
       "      <td>2020-04-18 10:22:59</td>\n",
       "      <td>2020-04-18 11:15:54</td>\n",
       "      <td>Rush St &amp; Hubbard St</td>\n",
       "      <td>125</td>\n",
       "      <td>Sheridan Rd &amp; Lawrence Ave</td>\n",
       "      <td>323.0</td>\n",
       "      <td>41.8902</td>\n",
       "      <td>-87.6262</td>\n",
       "      <td>41.9695</td>\n",
       "      <td>-87.6547</td>\n",
       "      <td>casual</td>\n",
       "      <td>0 days 00:52:55</td>\n",
       "      <td>52.916667</td>\n",
       "      <td>Saturday</td>\n",
       "      <td>Saturday</td>\n",
       "      <td>April</td>\n",
       "      <td>10:22:59 AM</td>\n",
       "      <td>11:15:54 AM</td>\n",
       "    </tr>\n",
       "  </tbody>\n",
       "</table>\n",
       "</div>"
      ],
      "text/plain": [
       "            ride_id rideable_type          started_at            ended_at  \\\n",
       "0  A847FADBBC638E45   docked_bike 2020-04-26 17:45:14 2020-04-26 18:12:03   \n",
       "1  5405B80E996FF60D   docked_bike 2020-04-17 17:08:54 2020-04-17 17:17:03   \n",
       "2  5DD24A79A4E006F4   docked_bike 2020-04-01 17:54:13 2020-04-01 18:08:36   \n",
       "3  2A59BBDF5CDBA725   docked_bike 2020-04-07 12:50:19 2020-04-07 13:02:31   \n",
       "4  27AD306C119C6158   docked_bike 2020-04-18 10:22:59 2020-04-18 11:15:54   \n",
       "\n",
       "             start_station_name start_station_id             end_station_name  \\\n",
       "0                  Eckhart Park               86  Lincoln Ave & Diversey Pkwy   \n",
       "1     Drake Ave & Fullerton Ave              503              Kosciuszko Park   \n",
       "2          McClurg Ct & Erie St              142   Indiana Ave & Roosevelt Rd   \n",
       "3  California Ave & Division St              216       Wood St & Augusta Blvd   \n",
       "4          Rush St & Hubbard St              125   Sheridan Rd & Lawrence Ave   \n",
       "\n",
       "  end_station_id  start_lat  start_lng  end_lat  end_lng member_casual  \\\n",
       "0          152.0    41.8964   -87.6610  41.9322 -87.6586        member   \n",
       "1          499.0    41.9244   -87.7154  41.9306 -87.7238        member   \n",
       "2          255.0    41.8945   -87.6179  41.8679 -87.6230        member   \n",
       "3          657.0    41.9030   -87.6975  41.8992 -87.6722        member   \n",
       "4          323.0    41.8902   -87.6262  41.9695 -87.6547        casual   \n",
       "\n",
       "   TrpTIme_in_hrs  trip_time_minutes DOW(strt_trip) DOW(End_trip)  \\\n",
       "0 0 days 00:26:49          26.816667         Sunday        Sunday   \n",
       "1 0 days 00:08:09           8.150000         Friday        Friday   \n",
       "2 0 days 00:14:23          14.383333      Wednesday     Wednesday   \n",
       "3 0 days 00:12:12          12.200000        Tuesday       Tuesday   \n",
       "4 0 days 00:52:55          52.916667       Saturday      Saturday   \n",
       "\n",
       "  MON(strt_trip) timetrip_started(12hrs) timetrip_ended(12hrs)  \n",
       "0          April             05:45:14 PM           06:12:03 PM  \n",
       "1          April             05:08:54 PM           05:17:03 PM  \n",
       "2          April             05:54:13 PM           06:08:36 PM  \n",
       "3          April             12:50:19 PM           01:02:31 PM  \n",
       "4          April             10:22:59 AM           11:15:54 AM  "
      ]
     },
     "execution_count": 14,
     "metadata": {},
     "output_type": "execute_result"
    }
   ],
   "source": [
    "merged_data.head()"
   ]
  },
  {
   "cell_type": "code",
   "execution_count": 15,
   "metadata": {},
   "outputs": [
    {
     "data": {
      "text/plain": [
       "0    9.0\n",
       "dtype: float64"
      ]
     },
     "execution_count": 15,
     "metadata": {},
     "output_type": "execute_result"
    }
   ],
   "source": [
    "# most frequent trip time in minutes\n",
    "merged_data['trip_time_minutes'].mode()"
   ]
  },
  {
   "cell_type": "code",
   "execution_count": 16,
   "metadata": {},
   "outputs": [
    {
     "data": {
      "text/plain": [
       "0    Saturday\n",
       "dtype: object"
      ]
     },
     "execution_count": 16,
     "metadata": {},
     "output_type": "execute_result"
    }
   ],
   "source": [
    "#most frequent day of the week for trip\n",
    "merged_data['DOW(End_trip)'].mode()"
   ]
  },
  {
   "cell_type": "code",
   "execution_count": 17,
   "metadata": {},
   "outputs": [],
   "source": [
    "#drop trip time in minutes with \"0.00\" from minutes column\n",
    "filt2= merged_data['trip_time_minutes'] == 0.00\n",
    "\n",
    "\n",
    "merged_data.drop(merged_data.index[filt2],inplace=True)"
   ]
  },
  {
   "cell_type": "code",
   "execution_count": 18,
   "metadata": {},
   "outputs": [
    {
     "data": {
      "text/plain": [
       "count    3476396.000000\n",
       "mean          27.973371\n",
       "std          252.950356\n",
       "min            0.016667\n",
       "25%            7.983333\n",
       "50%           14.583333\n",
       "75%           26.716667\n",
       "max        58720.033333\n",
       "Name: trip_time_minutes, dtype: object"
      ]
     },
     "execution_count": 18,
     "metadata": {},
     "output_type": "execute_result"
    }
   ],
   "source": [
    "#Descriptive stats on \"trip_time_minutes\" column\n",
    "merged_data['trip_time_minutes'].describe().apply(lambda x: format(x,'f'))"
   ]
  },
  {
   "cell_type": "code",
   "execution_count": 19,
   "metadata": {},
   "outputs": [],
   "source": [
    "\n",
    "#percentile,inter-quartile range,upper and lower limits for trip time in minutes\n",
    "\n",
    "import pandas as pd\n",
    "import numpy as np\n",
    "Q75,Q25= np.percentile(merged_data['trip_time_minutes'], [75, 25])\n",
    "\n",
    "IQR = Q75-Q25\n",
    "\n",
    "IQR\n",
    "\n",
    "lim = Q25 - 1.5 * IQR \n",
    "upper_lim = Q75 + 1.5 * IQR\n",
    "\n",
    "\n"
   ]
  },
  {
   "cell_type": "code",
   "execution_count": 20,
   "metadata": {},
   "outputs": [
    {
     "data": {
      "text/plain": [
       "-20.11666666666666"
      ]
     },
     "execution_count": 20,
     "metadata": {},
     "output_type": "execute_result"
    }
   ],
   "source": [
    "lim"
   ]
  },
  {
   "cell_type": "code",
   "execution_count": 21,
   "metadata": {},
   "outputs": [
    {
     "data": {
      "text/plain": [
       "54.81666666666666"
      ]
     },
     "execution_count": 21,
     "metadata": {},
     "output_type": "execute_result"
    }
   ],
   "source": [
    "upper_lim"
   ]
  },
  {
   "cell_type": "code",
   "execution_count": 22,
   "metadata": {},
   "outputs": [
    {
     "data": {
      "text/plain": [
       "18.73333333333333"
      ]
     },
     "execution_count": 22,
     "metadata": {},
     "output_type": "execute_result"
    }
   ],
   "source": [
    "IQR"
   ]
  },
  {
   "cell_type": "code",
   "execution_count": 23,
   "metadata": {},
   "outputs": [],
   "source": [
    "#drop triptime in minute > upper limit\n",
    "filt3= merged_data['trip_time_minutes'] > upper_lim\n",
    "\n",
    "merged_data.drop(merged_data.index[filt3],inplace=True)"
   ]
  },
  {
   "cell_type": "code",
   "execution_count": 24,
   "metadata": {},
   "outputs": [
    {
     "data": {
      "text/plain": [
       "count    3204162.000000\n",
       "mean          16.481597\n",
       "std           11.643544\n",
       "min            0.016667\n",
       "25%            7.516667\n",
       "50%           13.316667\n",
       "75%           23.000000\n",
       "max           54.800000\n",
       "Name: trip_time_minutes, dtype: object"
      ]
     },
     "execution_count": 24,
     "metadata": {},
     "output_type": "execute_result"
    }
   ],
   "source": [
    "# descriptive stats for trip time in minutes\n",
    "merged_data['trip_time_minutes'].describe().apply(lambda x: format(x,'f'))"
   ]
  },
  {
   "cell_type": "code",
   "execution_count": 27,
   "metadata": {},
   "outputs": [
    {
     "data": {
      "text/html": [
       "<div>\n",
       "<style scoped>\n",
       "    .dataframe tbody tr th:only-of-type {\n",
       "        vertical-align: middle;\n",
       "    }\n",
       "\n",
       "    .dataframe tbody tr th {\n",
       "        vertical-align: top;\n",
       "    }\n",
       "\n",
       "    .dataframe thead th {\n",
       "        text-align: right;\n",
       "    }\n",
       "</style>\n",
       "<table border=\"1\" class=\"dataframe\">\n",
       "  <thead>\n",
       "    <tr style=\"text-align: right;\">\n",
       "      <th></th>\n",
       "      <th>member_casual</th>\n",
       "      <th>DOW(strt_trip)</th>\n",
       "      <th>trip_time_minutes</th>\n",
       "    </tr>\n",
       "  </thead>\n",
       "  <tbody>\n",
       "    <tr>\n",
       "      <th>6</th>\n",
       "      <td>casual</td>\n",
       "      <td>Wednesday</td>\n",
       "      <td>2.567666e+06</td>\n",
       "    </tr>\n",
       "    <tr>\n",
       "      <th>13</th>\n",
       "      <td>member</td>\n",
       "      <td>Wednesday</td>\n",
       "      <td>4.149325e+06</td>\n",
       "    </tr>\n",
       "    <tr>\n",
       "      <th>5</th>\n",
       "      <td>casual</td>\n",
       "      <td>Tuesday</td>\n",
       "      <td>2.364486e+06</td>\n",
       "    </tr>\n",
       "    <tr>\n",
       "      <th>12</th>\n",
       "      <td>member</td>\n",
       "      <td>Tuesday</td>\n",
       "      <td>3.850803e+06</td>\n",
       "    </tr>\n",
       "    <tr>\n",
       "      <th>4</th>\n",
       "      <td>casual</td>\n",
       "      <td>Thursday</td>\n",
       "      <td>2.685622e+06</td>\n",
       "    </tr>\n",
       "    <tr>\n",
       "      <th>11</th>\n",
       "      <td>member</td>\n",
       "      <td>Thursday</td>\n",
       "      <td>4.090149e+06</td>\n",
       "    </tr>\n",
       "    <tr>\n",
       "      <th>3</th>\n",
       "      <td>casual</td>\n",
       "      <td>Sunday</td>\n",
       "      <td>4.465440e+06</td>\n",
       "    </tr>\n",
       "    <tr>\n",
       "      <th>10</th>\n",
       "      <td>member</td>\n",
       "      <td>Sunday</td>\n",
       "      <td>4.090369e+06</td>\n",
       "    </tr>\n",
       "    <tr>\n",
       "      <th>2</th>\n",
       "      <td>casual</td>\n",
       "      <td>Saturday</td>\n",
       "      <td>5.770979e+06</td>\n",
       "    </tr>\n",
       "    <tr>\n",
       "      <th>9</th>\n",
       "      <td>member</td>\n",
       "      <td>Saturday</td>\n",
       "      <td>4.958118e+06</td>\n",
       "    </tr>\n",
       "    <tr>\n",
       "      <th>1</th>\n",
       "      <td>casual</td>\n",
       "      <td>Monday</td>\n",
       "      <td>2.487468e+06</td>\n",
       "    </tr>\n",
       "    <tr>\n",
       "      <th>8</th>\n",
       "      <td>member</td>\n",
       "      <td>Monday</td>\n",
       "      <td>3.635480e+06</td>\n",
       "    </tr>\n",
       "    <tr>\n",
       "      <th>0</th>\n",
       "      <td>casual</td>\n",
       "      <td>Friday</td>\n",
       "      <td>3.446068e+06</td>\n",
       "    </tr>\n",
       "    <tr>\n",
       "      <th>7</th>\n",
       "      <td>member</td>\n",
       "      <td>Friday</td>\n",
       "      <td>4.247732e+06</td>\n",
       "    </tr>\n",
       "  </tbody>\n",
       "</table>\n",
       "</div>"
      ],
      "text/plain": [
       "   member_casual DOW(strt_trip)  trip_time_minutes\n",
       "6         casual      Wednesday       2.567666e+06\n",
       "13        member      Wednesday       4.149325e+06\n",
       "5         casual        Tuesday       2.364486e+06\n",
       "12        member        Tuesday       3.850803e+06\n",
       "4         casual       Thursday       2.685622e+06\n",
       "11        member       Thursday       4.090149e+06\n",
       "3         casual         Sunday       4.465440e+06\n",
       "10        member         Sunday       4.090369e+06\n",
       "2         casual       Saturday       5.770979e+06\n",
       "9         member       Saturday       4.958118e+06\n",
       "1         casual         Monday       2.487468e+06\n",
       "8         member         Monday       3.635480e+06\n",
       "0         casual         Friday       3.446068e+06\n",
       "7         member         Friday       4.247732e+06"
      ]
     },
     "execution_count": 27,
     "metadata": {},
     "output_type": "execute_result"
    }
   ],
   "source": [
    "# total trip time for each day of the week for bike users and sortvalues\n",
    "ted= (merged_data.groupby(['member_casual','DOW(strt_trip)'])['trip_time_minutes']\n",
    "                .sum().reset_index())\n",
    "\n",
    "ted.sort_values(by='DOW(strt_trip)',ascending=False)"
   ]
  },
  {
   "cell_type": "code",
   "execution_count": 26,
   "metadata": {},
   "outputs": [
    {
     "data": {
      "text/plain": [
       "member_casual  DOW(strt_trip)\n",
       "member         Tuesday           13.687947\n",
       "               Wednesday         13.750004\n",
       "               Monday            13.750860\n",
       "               Thursday          13.763573\n",
       "               Friday            14.043622\n",
       "               Saturday          15.639271\n",
       "               Sunday            15.734853\n",
       "casual         Wednesday         18.868660\n",
       "               Thursday          18.900318\n",
       "               Tuesday           19.141140\n",
       "               Friday            19.552272\n",
       "               Monday            19.834055\n",
       "               Saturday          21.350983\n",
       "               Sunday            21.634885\n",
       "Name: trip_time_minutes, dtype: float64"
      ]
     },
     "execution_count": 26,
     "metadata": {},
     "output_type": "execute_result"
    }
   ],
   "source": [
    "# average ride_length for users by day_of_week. \n",
    "users_avg_ridelength= (merged_data.groupby(['member_casual','DOW(strt_trip)'])['trip_time_minutes']\n",
    "                             .mean().sort_values())\n",
    "\n",
    "users_avg_ridelength\n"
   ]
  },
  {
   "cell_type": "code",
   "execution_count": 28,
   "metadata": {},
   "outputs": [],
   "source": [
    "#group member and casual to find hours frequently traveled \n",
    "\n",
    "time = merged_data.groupby(['member_casual','DOW(strt_trip)'])\n",
    "\n",
    "\n",
    "\n"
   ]
  },
  {
   "cell_type": "code",
   "execution_count": 29,
   "metadata": {},
   "outputs": [],
   "source": [
    "# most frequent hour of travel for casual\n",
    "check= time['timetrip_started(12hrs)'].value_counts().loc['casual']\n",
    "\n"
   ]
  },
  {
   "cell_type": "code",
   "execution_count": 30,
   "metadata": {},
   "outputs": [
    {
     "data": {
      "text/plain": [
       "DOW(strt_trip)  timetrip_started(12hrs)\n",
       "Wednesday       12:59:56 AM                 1\n",
       "Tuesday         07:30:28 PM                 1\n",
       "                07:30:26 AM                 1\n",
       "                07:30:24 AM                 1\n",
       "                07:30:23 AM                 1\n",
       "                                           ..\n",
       "Saturday        03:21:00 PM                70\n",
       "                02:50:00 PM                70\n",
       "                04:23:00 PM                72\n",
       "                02:10:00 PM                72\n",
       "                02:46:00 PM                73\n",
       "Name: timetrip_started(12hrs), Length: 392215, dtype: int64"
      ]
     },
     "execution_count": 30,
     "metadata": {},
     "output_type": "execute_result"
    }
   ],
   "source": [
    "check.sort_values()"
   ]
  },
  {
   "cell_type": "code",
   "execution_count": 32,
   "metadata": {},
   "outputs": [],
   "source": [
    "# most frequent endtrip hour for casual\n",
    "\n",
    "end_time = merged_data.groupby(['member_casual','DOW(strt_trip)'])"
   ]
  },
  {
   "cell_type": "code",
   "execution_count": 35,
   "metadata": {},
   "outputs": [],
   "source": [
    "check_end_time = end_time['timetrip_ended(12hrs)'].value_counts().loc['casual']"
   ]
  },
  {
   "cell_type": "code",
   "execution_count": 36,
   "metadata": {},
   "outputs": [
    {
     "data": {
      "text/plain": [
       "DOW(strt_trip)  timetrip_ended(12hrs)\n",
       "Wednesday       12:59:53 AM               1\n",
       "Tuesday         07:30:09 AM               1\n",
       "                07:30:07 AM               1\n",
       "                07:30:03 AM               1\n",
       "                07:29:58 PM               1\n",
       "                                         ..\n",
       "Saturday        04:52:00 PM              67\n",
       "Sunday          03:06:00 PM              67\n",
       "                05:15:00 PM              70\n",
       "Saturday        03:15:00 PM              76\n",
       "                02:12:00 PM              87\n",
       "Name: timetrip_ended(12hrs), Length: 392812, dtype: int64"
      ]
     },
     "execution_count": 36,
     "metadata": {},
     "output_type": "execute_result"
    }
   ],
   "source": [
    "check_end_time.sort_values()"
   ]
  },
  {
   "cell_type": "code",
   "execution_count": 39,
   "metadata": {},
   "outputs": [],
   "source": [
    "# most frequent hour of travel for member\n",
    "check2= time['timetrip_started(12hrs)'].value_counts().loc['member']"
   ]
  },
  {
   "cell_type": "code",
   "execution_count": 40,
   "metadata": {},
   "outputs": [
    {
     "data": {
      "text/plain": [
       "DOW(strt_trip)  timetrip_started(12hrs)\n",
       "Wednesday       12:59:58 PM                 1\n",
       "Monday          01:44:22 AM                 1\n",
       "                01:44:12 PM                 1\n",
       "                01:44:07 PM                 1\n",
       "                01:43:59 PM                 1\n",
       "                                           ..\n",
       "Wednesday       06:14:00 PM                81\n",
       "Thursday        05:29:00 PM                82\n",
       "                05:09:00 PM                82\n",
       "                06:13:00 PM                83\n",
       "                06:05:00 PM                86\n",
       "Name: timetrip_started(12hrs), Length: 448136, dtype: int64"
      ]
     },
     "execution_count": 40,
     "metadata": {},
     "output_type": "execute_result"
    }
   ],
   "source": [
    "check2.sort_values()"
   ]
  },
  {
   "cell_type": "code",
   "execution_count": 41,
   "metadata": {},
   "outputs": [
    {
     "data": {
      "text/html": [
       "<div>\n",
       "<style scoped>\n",
       "    .dataframe tbody tr th:only-of-type {\n",
       "        vertical-align: middle;\n",
       "    }\n",
       "\n",
       "    .dataframe tbody tr th {\n",
       "        vertical-align: top;\n",
       "    }\n",
       "\n",
       "    .dataframe thead th {\n",
       "        text-align: right;\n",
       "    }\n",
       "</style>\n",
       "<table border=\"1\" class=\"dataframe\">\n",
       "  <thead>\n",
       "    <tr style=\"text-align: right;\">\n",
       "      <th></th>\n",
       "      <th>DOW(strt_trip)</th>\n",
       "      <th>trip_time_minutes</th>\n",
       "    </tr>\n",
       "  </thead>\n",
       "  <tbody>\n",
       "    <tr>\n",
       "      <th>2</th>\n",
       "      <td>Saturday</td>\n",
       "      <td>5770978.650000</td>\n",
       "    </tr>\n",
       "    <tr>\n",
       "      <th>3</th>\n",
       "      <td>Sunday</td>\n",
       "      <td>4465440.216667</td>\n",
       "    </tr>\n",
       "    <tr>\n",
       "      <th>0</th>\n",
       "      <td>Friday</td>\n",
       "      <td>3446068.466667</td>\n",
       "    </tr>\n",
       "    <tr>\n",
       "      <th>4</th>\n",
       "      <td>Thursday</td>\n",
       "      <td>2685621.816667</td>\n",
       "    </tr>\n",
       "    <tr>\n",
       "      <th>6</th>\n",
       "      <td>Wednesday</td>\n",
       "      <td>2567666.066667</td>\n",
       "    </tr>\n",
       "    <tr>\n",
       "      <th>1</th>\n",
       "      <td>Monday</td>\n",
       "      <td>2487468.133333</td>\n",
       "    </tr>\n",
       "    <tr>\n",
       "      <th>5</th>\n",
       "      <td>Tuesday</td>\n",
       "      <td>2364485.866667</td>\n",
       "    </tr>\n",
       "  </tbody>\n",
       "</table>\n",
       "</div>"
      ],
      "text/plain": [
       "  DOW(strt_trip) trip_time_minutes\n",
       "2       Saturday    5770978.650000\n",
       "3         Sunday    4465440.216667\n",
       "0         Friday    3446068.466667\n",
       "4       Thursday    2685621.816667\n",
       "6      Wednesday    2567666.066667\n",
       "1         Monday    2487468.133333\n",
       "5        Tuesday    2364485.866667"
      ]
     },
     "execution_count": 41,
     "metadata": {},
     "output_type": "execute_result"
    }
   ],
   "source": [
    "#group data for casual according to day of the week,sum trip time in minutes then sortvalues\n",
    "ted= (merged_data.groupby(['member_casual','DOW(strt_trip)'])['trip_time_minutes']\n",
    "                    .sum().apply(lambda x: format(x,'f')).loc['casual'].reset_index())\n",
    "                     \n",
    "\n",
    "ted.sort_values(by='trip_time_minutes',ascending=False)"
   ]
  },
  {
   "cell_type": "code",
   "execution_count": 42,
   "metadata": {},
   "outputs": [
    {
     "data": {
      "text/plain": [
       "DOW(strt_trip)\n",
       "Monday       3.635480e+06\n",
       "Tuesday      3.850803e+06\n",
       "Thursday     4.090149e+06\n",
       "Sunday       4.090369e+06\n",
       "Wednesday    4.149325e+06\n",
       "Friday       4.247732e+06\n",
       "Saturday     4.958118e+06\n",
       "Name: trip_time_minutes, dtype: float64"
      ]
     },
     "execution_count": 42,
     "metadata": {},
     "output_type": "execute_result"
    }
   ],
   "source": [
    "\n",
    "#group data for member according to day of the week,sum trip time in minutes then sortvalues\n",
    "ted= merged_data.groupby(['member_casual','DOW(strt_trip)'])\n",
    "ted['trip_time_minutes'].sum().sort_values().loc['member']\n",
    "\n"
   ]
  },
  {
   "cell_type": "code",
   "execution_count": 43,
   "metadata": {},
   "outputs": [
    {
     "data": {
      "text/html": [
       "<div>\n",
       "<style scoped>\n",
       "    .dataframe tbody tr th:only-of-type {\n",
       "        vertical-align: middle;\n",
       "    }\n",
       "\n",
       "    .dataframe tbody tr th {\n",
       "        vertical-align: top;\n",
       "    }\n",
       "\n",
       "    .dataframe thead th {\n",
       "        text-align: right;\n",
       "    }\n",
       "</style>\n",
       "<table border=\"1\" class=\"dataframe\">\n",
       "  <thead>\n",
       "    <tr style=\"text-align: right;\">\n",
       "      <th></th>\n",
       "      <th>MON(strt_trip)</th>\n",
       "      <th>trip_time_minutes</th>\n",
       "    </tr>\n",
       "  </thead>\n",
       "  <tbody>\n",
       "    <tr>\n",
       "      <th>1</th>\n",
       "      <td>August</td>\n",
       "      <td>4.895490e+06</td>\n",
       "    </tr>\n",
       "    <tr>\n",
       "      <th>5</th>\n",
       "      <td>July</td>\n",
       "      <td>4.397836e+06</td>\n",
       "    </tr>\n",
       "    <tr>\n",
       "      <th>11</th>\n",
       "      <td>September</td>\n",
       "      <td>4.146657e+06</td>\n",
       "    </tr>\n",
       "    <tr>\n",
       "      <th>6</th>\n",
       "      <td>June</td>\n",
       "      <td>3.072612e+06</td>\n",
       "    </tr>\n",
       "    <tr>\n",
       "      <th>10</th>\n",
       "      <td>October</td>\n",
       "      <td>3.044455e+06</td>\n",
       "    </tr>\n",
       "    <tr>\n",
       "      <th>9</th>\n",
       "      <td>November</td>\n",
       "      <td>2.135939e+06</td>\n",
       "    </tr>\n",
       "    <tr>\n",
       "      <th>8</th>\n",
       "      <td>May</td>\n",
       "      <td>1.934850e+06</td>\n",
       "    </tr>\n",
       "    <tr>\n",
       "      <th>7</th>\n",
       "      <td>March</td>\n",
       "      <td>1.834169e+06</td>\n",
       "    </tr>\n",
       "    <tr>\n",
       "      <th>2</th>\n",
       "      <td>December</td>\n",
       "      <td>1.182977e+06</td>\n",
       "    </tr>\n",
       "    <tr>\n",
       "      <th>0</th>\n",
       "      <td>April</td>\n",
       "      <td>9.825750e+05</td>\n",
       "    </tr>\n",
       "    <tr>\n",
       "      <th>4</th>\n",
       "      <td>January</td>\n",
       "      <td>8.947102e+05</td>\n",
       "    </tr>\n",
       "    <tr>\n",
       "      <th>3</th>\n",
       "      <td>February</td>\n",
       "      <td>4.997059e+05</td>\n",
       "    </tr>\n",
       "  </tbody>\n",
       "</table>\n",
       "</div>"
      ],
      "text/plain": [
       "   MON(strt_trip)  trip_time_minutes\n",
       "1          August       4.895490e+06\n",
       "5            July       4.397836e+06\n",
       "11      September       4.146657e+06\n",
       "6            June       3.072612e+06\n",
       "10        October       3.044455e+06\n",
       "9        November       2.135939e+06\n",
       "8             May       1.934850e+06\n",
       "7           March       1.834169e+06\n",
       "2        December       1.182977e+06\n",
       "0           April       9.825750e+05\n",
       "4         January       8.947102e+05\n",
       "3        February       4.997059e+05"
      ]
     },
     "execution_count": 43,
     "metadata": {},
     "output_type": "execute_result"
    }
   ],
   "source": [
    "# group data by month for member and sort values by triptime_minutes\n",
    "ted= merged_data.groupby(['member_casual','MON(strt_trip)'])\n",
    "\n",
    "reset_mem= ted['trip_time_minutes'].sum().loc['member'].reset_index()\n",
    "\n",
    "reset_mem .sort_values(by='trip_time_minutes',ascending=False)\n",
    "\n",
    "\n",
    "\n"
   ]
  },
  {
   "cell_type": "code",
   "execution_count": 44,
   "metadata": {},
   "outputs": [
    {
     "data": {
      "text/html": [
       "<div>\n",
       "<style scoped>\n",
       "    .dataframe tbody tr th:only-of-type {\n",
       "        vertical-align: middle;\n",
       "    }\n",
       "\n",
       "    .dataframe tbody tr th {\n",
       "        vertical-align: top;\n",
       "    }\n",
       "\n",
       "    .dataframe thead th {\n",
       "        text-align: right;\n",
       "    }\n",
       "</style>\n",
       "<table border=\"1\" class=\"dataframe\">\n",
       "  <thead>\n",
       "    <tr style=\"text-align: right;\">\n",
       "      <th></th>\n",
       "      <th>MON(strt_trip)</th>\n",
       "      <th>trip_time_minutes</th>\n",
       "    </tr>\n",
       "  </thead>\n",
       "  <tbody>\n",
       "    <tr>\n",
       "      <th>1</th>\n",
       "      <td>August</td>\n",
       "      <td>4.879176e+06</td>\n",
       "    </tr>\n",
       "    <tr>\n",
       "      <th>5</th>\n",
       "      <td>July</td>\n",
       "      <td>4.534043e+06</td>\n",
       "    </tr>\n",
       "    <tr>\n",
       "      <th>11</th>\n",
       "      <td>September</td>\n",
       "      <td>3.803216e+06</td>\n",
       "    </tr>\n",
       "    <tr>\n",
       "      <th>6</th>\n",
       "      <td>June</td>\n",
       "      <td>2.691267e+06</td>\n",
       "    </tr>\n",
       "    <tr>\n",
       "      <th>10</th>\n",
       "      <td>October</td>\n",
       "      <td>2.268559e+06</td>\n",
       "    </tr>\n",
       "    <tr>\n",
       "      <th>8</th>\n",
       "      <td>May</td>\n",
       "      <td>1.558491e+06</td>\n",
       "    </tr>\n",
       "    <tr>\n",
       "      <th>7</th>\n",
       "      <td>March</td>\n",
       "      <td>1.383875e+06</td>\n",
       "    </tr>\n",
       "    <tr>\n",
       "      <th>9</th>\n",
       "      <td>November</td>\n",
       "      <td>1.379718e+06</td>\n",
       "    </tr>\n",
       "    <tr>\n",
       "      <th>2</th>\n",
       "      <td>December</td>\n",
       "      <td>4.407419e+05</td>\n",
       "    </tr>\n",
       "    <tr>\n",
       "      <th>0</th>\n",
       "      <td>April</td>\n",
       "      <td>4.376246e+05</td>\n",
       "    </tr>\n",
       "    <tr>\n",
       "      <th>4</th>\n",
       "      <td>January</td>\n",
       "      <td>2.540368e+05</td>\n",
       "    </tr>\n",
       "    <tr>\n",
       "      <th>3</th>\n",
       "      <td>February</td>\n",
       "      <td>1.569809e+05</td>\n",
       "    </tr>\n",
       "  </tbody>\n",
       "</table>\n",
       "</div>"
      ],
      "text/plain": [
       "   MON(strt_trip)  trip_time_minutes\n",
       "1          August       4.879176e+06\n",
       "5            July       4.534043e+06\n",
       "11      September       3.803216e+06\n",
       "6            June       2.691267e+06\n",
       "10        October       2.268559e+06\n",
       "8             May       1.558491e+06\n",
       "7           March       1.383875e+06\n",
       "9        November       1.379718e+06\n",
       "2        December       4.407419e+05\n",
       "0           April       4.376246e+05\n",
       "4         January       2.540368e+05\n",
       "3        February       1.569809e+05"
      ]
     },
     "execution_count": 44,
     "metadata": {},
     "output_type": "execute_result"
    }
   ],
   "source": [
    "ted= merged_data.groupby(['member_casual','MON(strt_trip)'])\n",
    "\n",
    "reset_cas= ted['trip_time_minutes'].sum().loc['casual'].reset_index()\n",
    "reset_cas.sort_values(by='trip_time_minutes',ascending=False)\n"
   ]
  },
  {
   "cell_type": "code",
   "execution_count": 50,
   "metadata": {},
   "outputs": [
    {
     "data": {
      "text/html": [
       "<div>\n",
       "<style scoped>\n",
       "    .dataframe tbody tr th:only-of-type {\n",
       "        vertical-align: middle;\n",
       "    }\n",
       "\n",
       "    .dataframe tbody tr th {\n",
       "        vertical-align: top;\n",
       "    }\n",
       "\n",
       "    .dataframe thead th {\n",
       "        text-align: right;\n",
       "    }\n",
       "</style>\n",
       "<table border=\"1\" class=\"dataframe\">\n",
       "  <thead>\n",
       "    <tr style=\"text-align: right;\">\n",
       "      <th></th>\n",
       "      <th>member_casual</th>\n",
       "      <th>MON(strt_trip)</th>\n",
       "      <th>trip_time_minutes</th>\n",
       "    </tr>\n",
       "  </thead>\n",
       "  <tbody>\n",
       "    <tr>\n",
       "      <th>23</th>\n",
       "      <td>member</td>\n",
       "      <td>September</td>\n",
       "      <td>4146656.766667</td>\n",
       "    </tr>\n",
       "    <tr>\n",
       "      <th>11</th>\n",
       "      <td>casual</td>\n",
       "      <td>September</td>\n",
       "      <td>3803215.616667</td>\n",
       "    </tr>\n",
       "    <tr>\n",
       "      <th>10</th>\n",
       "      <td>casual</td>\n",
       "      <td>October</td>\n",
       "      <td>2268559.333333</td>\n",
       "    </tr>\n",
       "    <tr>\n",
       "      <th>22</th>\n",
       "      <td>member</td>\n",
       "      <td>October</td>\n",
       "      <td>3044454.850000</td>\n",
       "    </tr>\n",
       "    <tr>\n",
       "      <th>21</th>\n",
       "      <td>member</td>\n",
       "      <td>November</td>\n",
       "      <td>2135939.066667</td>\n",
       "    </tr>\n",
       "    <tr>\n",
       "      <th>9</th>\n",
       "      <td>casual</td>\n",
       "      <td>November</td>\n",
       "      <td>1379718.383333</td>\n",
       "    </tr>\n",
       "    <tr>\n",
       "      <th>8</th>\n",
       "      <td>casual</td>\n",
       "      <td>May</td>\n",
       "      <td>1558490.683333</td>\n",
       "    </tr>\n",
       "    <tr>\n",
       "      <th>20</th>\n",
       "      <td>member</td>\n",
       "      <td>May</td>\n",
       "      <td>1934850.300000</td>\n",
       "    </tr>\n",
       "    <tr>\n",
       "      <th>7</th>\n",
       "      <td>casual</td>\n",
       "      <td>March</td>\n",
       "      <td>1383875.066667</td>\n",
       "    </tr>\n",
       "    <tr>\n",
       "      <th>19</th>\n",
       "      <td>member</td>\n",
       "      <td>March</td>\n",
       "      <td>1834169.416667</td>\n",
       "    </tr>\n",
       "    <tr>\n",
       "      <th>18</th>\n",
       "      <td>member</td>\n",
       "      <td>June</td>\n",
       "      <td>3072612.000000</td>\n",
       "    </tr>\n",
       "    <tr>\n",
       "      <th>6</th>\n",
       "      <td>casual</td>\n",
       "      <td>June</td>\n",
       "      <td>2691267.000000</td>\n",
       "    </tr>\n",
       "    <tr>\n",
       "      <th>5</th>\n",
       "      <td>casual</td>\n",
       "      <td>July</td>\n",
       "      <td>4534042.583333</td>\n",
       "    </tr>\n",
       "    <tr>\n",
       "      <th>17</th>\n",
       "      <td>member</td>\n",
       "      <td>July</td>\n",
       "      <td>4397835.800000</td>\n",
       "    </tr>\n",
       "    <tr>\n",
       "      <th>4</th>\n",
       "      <td>casual</td>\n",
       "      <td>January</td>\n",
       "      <td>254036.766667</td>\n",
       "    </tr>\n",
       "    <tr>\n",
       "      <th>16</th>\n",
       "      <td>member</td>\n",
       "      <td>January</td>\n",
       "      <td>894710.150000</td>\n",
       "    </tr>\n",
       "    <tr>\n",
       "      <th>3</th>\n",
       "      <td>casual</td>\n",
       "      <td>February</td>\n",
       "      <td>156980.850000</td>\n",
       "    </tr>\n",
       "    <tr>\n",
       "      <th>15</th>\n",
       "      <td>member</td>\n",
       "      <td>February</td>\n",
       "      <td>499705.900000</td>\n",
       "    </tr>\n",
       "    <tr>\n",
       "      <th>2</th>\n",
       "      <td>casual</td>\n",
       "      <td>December</td>\n",
       "      <td>440741.900000</td>\n",
       "    </tr>\n",
       "    <tr>\n",
       "      <th>14</th>\n",
       "      <td>member</td>\n",
       "      <td>December</td>\n",
       "      <td>1182977.400000</td>\n",
       "    </tr>\n",
       "    <tr>\n",
       "      <th>13</th>\n",
       "      <td>member</td>\n",
       "      <td>August</td>\n",
       "      <td>4895489.683333</td>\n",
       "    </tr>\n",
       "    <tr>\n",
       "      <th>1</th>\n",
       "      <td>casual</td>\n",
       "      <td>August</td>\n",
       "      <td>4879176.450000</td>\n",
       "    </tr>\n",
       "    <tr>\n",
       "      <th>0</th>\n",
       "      <td>casual</td>\n",
       "      <td>April</td>\n",
       "      <td>437624.583333</td>\n",
       "    </tr>\n",
       "    <tr>\n",
       "      <th>12</th>\n",
       "      <td>member</td>\n",
       "      <td>April</td>\n",
       "      <td>982575.000000</td>\n",
       "    </tr>\n",
       "  </tbody>\n",
       "</table>\n",
       "</div>"
      ],
      "text/plain": [
       "   member_casual MON(strt_trip) trip_time_minutes\n",
       "23        member      September    4146656.766667\n",
       "11        casual      September    3803215.616667\n",
       "10        casual        October    2268559.333333\n",
       "22        member        October    3044454.850000\n",
       "21        member       November    2135939.066667\n",
       "9         casual       November    1379718.383333\n",
       "8         casual            May    1558490.683333\n",
       "20        member            May    1934850.300000\n",
       "7         casual          March    1383875.066667\n",
       "19        member          March    1834169.416667\n",
       "18        member           June    3072612.000000\n",
       "6         casual           June    2691267.000000\n",
       "5         casual           July    4534042.583333\n",
       "17        member           July    4397835.800000\n",
       "4         casual        January     254036.766667\n",
       "16        member        January     894710.150000\n",
       "3         casual       February     156980.850000\n",
       "15        member       February     499705.900000\n",
       "2         casual       December     440741.900000\n",
       "14        member       December    1182977.400000\n",
       "13        member         August    4895489.683333\n",
       "1         casual         August    4879176.450000\n",
       "0         casual          April     437624.583333\n",
       "12        member          April     982575.000000"
      ]
     },
     "execution_count": 50,
     "metadata": {},
     "output_type": "execute_result"
    }
   ],
   "source": [
    "#compare trip time minutes for member_casual in all the month\n",
    "ted= merged_data.groupby(['member_casual','MON(strt_trip)'])\n",
    "\n",
    "reset= ted['trip_time_minutes'].sum().apply(lambda x: format(x,'f')).reset_index()\n",
    "\n",
    "# sort according to month\n",
    "reset.sort_values(by='MON(strt_trip)',ascending=False)"
   ]
  },
  {
   "cell_type": "code",
   "execution_count": 51,
   "metadata": {},
   "outputs": [
    {
     "data": {
      "text/plain": [
       "0    Clark St & Elm St\n",
       "dtype: object"
      ]
     },
     "execution_count": 51,
     "metadata": {},
     "output_type": "execute_result"
    }
   ],
   "source": [
    "# start station with the highest frequency\n",
    "merged_data['start_station_name'].mode()"
   ]
  },
  {
   "cell_type": "code",
   "execution_count": 52,
   "metadata": {},
   "outputs": [
    {
     "data": {
      "text/plain": [
       "member_casual\n",
       "casual    185609.350000\n",
       "member    260993.783333\n",
       "Name: trip_time_minutes, dtype: object"
      ]
     },
     "execution_count": 52,
     "metadata": {},
     "output_type": "execute_result"
    }
   ],
   "source": [
    "#group data to find triptime for \"Clark St & Elm St\"\n",
    "bike= merged_data.groupby(['start_station_name','member_casual'])\n",
    "\n",
    "bike['trip_time_minutes'].sum().apply(lambda x: format(x,'f')).loc['Clark St & Elm St']\n",
    "\n"
   ]
  },
  {
   "cell_type": "code",
   "execution_count": 53,
   "metadata": {},
   "outputs": [],
   "source": [
    "#group data and sort by trip time in minutes\n",
    "bike2= merged_data.groupby(['rideable_type','member_casual'])\n",
    "\n",
    "bike_grouping= bike2['trip_time_minutes'].sum().apply(lambda x: format(x,'f')).reset_index()\n",
    "\n",
    "\n"
   ]
  },
  {
   "cell_type": "code",
   "execution_count": 54,
   "metadata": {},
   "outputs": [
    {
     "data": {
      "text/html": [
       "<div>\n",
       "<style scoped>\n",
       "    .dataframe tbody tr th:only-of-type {\n",
       "        vertical-align: middle;\n",
       "    }\n",
       "\n",
       "    .dataframe tbody tr th {\n",
       "        vertical-align: top;\n",
       "    }\n",
       "\n",
       "    .dataframe thead th {\n",
       "        text-align: right;\n",
       "    }\n",
       "</style>\n",
       "<table border=\"1\" class=\"dataframe\">\n",
       "  <thead>\n",
       "    <tr style=\"text-align: right;\">\n",
       "      <th></th>\n",
       "      <th>rideable_type</th>\n",
       "      <th>member_casual</th>\n",
       "      <th>trip_time_minutes</th>\n",
       "    </tr>\n",
       "  </thead>\n",
       "  <tbody>\n",
       "    <tr>\n",
       "      <th>0</th>\n",
       "      <td>classic_bike</td>\n",
       "      <td>casual</td>\n",
       "      <td>1131698.550000</td>\n",
       "    </tr>\n",
       "    <tr>\n",
       "      <th>1</th>\n",
       "      <td>classic_bike</td>\n",
       "      <td>member</td>\n",
       "      <td>3115774.750000</td>\n",
       "    </tr>\n",
       "    <tr>\n",
       "      <th>2</th>\n",
       "      <td>docked_bike</td>\n",
       "      <td>casual</td>\n",
       "      <td>19081133.166667</td>\n",
       "    </tr>\n",
       "    <tr>\n",
       "      <th>3</th>\n",
       "      <td>docked_bike</td>\n",
       "      <td>member</td>\n",
       "      <td>21456121.233333</td>\n",
       "    </tr>\n",
       "    <tr>\n",
       "      <th>4</th>\n",
       "      <td>electric_bike</td>\n",
       "      <td>casual</td>\n",
       "      <td>3574897.500000</td>\n",
       "    </tr>\n",
       "    <tr>\n",
       "      <th>5</th>\n",
       "      <td>electric_bike</td>\n",
       "      <td>member</td>\n",
       "      <td>4450080.350000</td>\n",
       "    </tr>\n",
       "  </tbody>\n",
       "</table>\n",
       "</div>"
      ],
      "text/plain": [
       "   rideable_type member_casual trip_time_minutes\n",
       "0   classic_bike        casual    1131698.550000\n",
       "1   classic_bike        member    3115774.750000\n",
       "2    docked_bike        casual   19081133.166667\n",
       "3    docked_bike        member   21456121.233333\n",
       "4  electric_bike        casual    3574897.500000\n",
       "5  electric_bike        member    4450080.350000"
      ]
     },
     "execution_count": 54,
     "metadata": {},
     "output_type": "execute_result"
    }
   ],
   "source": [
    "bike_grouping"
   ]
  },
  {
   "cell_type": "code",
   "execution_count": 55,
   "metadata": {},
   "outputs": [],
   "source": [
    "#group bike use by users according to day of the week\n",
    "bike_Dow_group= merged_data.groupby(['member_casual','DOW(strt_trip)'])"
   ]
  },
  {
   "cell_type": "code",
   "execution_count": 56,
   "metadata": {},
   "outputs": [
    {
     "data": {
      "text/plain": [
       "member_casual  DOW(strt_trip)  rideable_type\n",
       "casual         Friday          docked_bike      134553\n",
       "                               electric_bike     34758\n",
       "                               classic_bike       6938\n",
       "               Monday          docked_bike       92112\n",
       "                               electric_bike     25463\n",
       "                               classic_bike       7839\n",
       "               Saturday        docked_bike      209790\n",
       "                               electric_bike     44504\n",
       "                               classic_bike      15997\n",
       "               Sunday          docked_bike      160669\n",
       "                               electric_bike     33798\n",
       "                               classic_bike      11933\n",
       "               Thursday        docked_bike      106287\n",
       "                               electric_bike     30097\n",
       "                               classic_bike       5710\n",
       "               Tuesday         docked_bike       90083\n",
       "                               electric_bike     25920\n",
       "                               classic_bike       7526\n",
       "               Wednesday       docked_bike      100056\n",
       "                               electric_bike     29057\n",
       "                               classic_bike       6968\n",
       "member         Friday          docked_bike      212649\n",
       "                               electric_bike     56159\n",
       "                               classic_bike      33659\n",
       "               Monday          docked_bike      179522\n",
       "                               electric_bike     48033\n",
       "                               classic_bike      36827\n",
       "               Saturday        docked_bike      225086\n",
       "                               electric_bike     54518\n",
       "                               classic_bike      37426\n",
       "               Sunday          docked_bike      186068\n",
       "                               electric_bike     43529\n",
       "                               classic_bike      30359\n",
       "               Thursday        docked_bike      209006\n",
       "                               electric_bike     55232\n",
       "                               classic_bike      32934\n",
       "               Tuesday         docked_bike      192818\n",
       "                               electric_bike     50823\n",
       "                               classic_bike      37687\n",
       "               Wednesday       docked_bike      208966\n",
       "                               electric_bike     54775\n",
       "                               classic_bike      38028\n",
       "Name: rideable_type, dtype: int64"
      ]
     },
     "execution_count": 56,
     "metadata": {},
     "output_type": "execute_result"
    }
   ],
   "source": [
    "bike_Dow_group['rideable_type'].value_counts()"
   ]
  },
  {
   "cell_type": "code",
   "execution_count": 57,
   "metadata": {},
   "outputs": [],
   "source": [
    "group_month_day = merged_data.groupby(['member_casual','MON(strt_trip)'])"
   ]
  },
  {
   "cell_type": "code",
   "execution_count": 59,
   "metadata": {},
   "outputs": [],
   "source": [
    "view = group_month_day['DOW(strt_trip)'].value_counts().loc['casual']"
   ]
  },
  {
   "cell_type": "code",
   "execution_count": 63,
   "metadata": {},
   "outputs": [
    {
     "data": {
      "text/plain": [
       "MON(strt_trip)  DOW(strt_trip)\n",
       "April           Sunday             5027\n",
       "                Saturday           3185\n",
       "                Tuesday            2952\n",
       "                Monday             2274\n",
       "                Friday             2160\n",
       "                Thursday           2116\n",
       "                Wednesday          1552\n",
       "August          Saturday          58473\n",
       "                Sunday            45711\n",
       "                Friday            32760\n",
       "                Thursday          26051\n",
       "                Wednesday         24848\n",
       "                Monday            24450\n",
       "                Tuesday           23610\n",
       "December        Sunday             4595\n",
       "                Thursday           4399\n",
       "                Wednesday          4304\n",
       "                Saturday           4173\n",
       "                Tuesday            3782\n",
       "                Monday             3325\n",
       "                Friday             3225\n",
       "February        Saturday           2972\n",
       "                Friday             1362\n",
       "                Sunday             1223\n",
       "                Wednesday          1033\n",
       "                Thursday            979\n",
       "                Tuesday             905\n",
       "                Monday              527\n",
       "January         Saturday           3669\n",
       "                Friday             2691\n",
       "                Sunday             2657\n",
       "                Thursday           2230\n",
       "                Wednesday          2012\n",
       "                Monday             1980\n",
       "                Tuesday            1800\n",
       "July            Saturday          39869\n",
       "                Friday            39094\n",
       "                Sunday            31348\n",
       "                Thursday          29527\n",
       "                Wednesday         24531\n",
       "                Monday            21077\n",
       "                Tuesday           20718\n",
       "June            Saturday          26028\n",
       "                Sunday            24491\n",
       "                Thursday          16656\n",
       "                Friday            15418\n",
       "                Tuesday           14628\n",
       "                Wednesday         12893\n",
       "                Monday            11385\n",
       "March           Saturday          18880\n",
       "Name: DOW(strt_trip), dtype: int64"
      ]
     },
     "execution_count": 63,
     "metadata": {},
     "output_type": "execute_result"
    }
   ],
   "source": [
    "view.head(50)"
   ]
  }
 ],
 "metadata": {
  "interpreter": {
   "hash": "5d87b42201e74ac320bc00dce267d44f5f134edfec9046f67f672f289707ff6a"
  },
  "kernelspec": {
   "display_name": "Python 3.7.3 64-bit",
   "language": "python",
   "name": "python3"
  },
  "language_info": {
   "codemirror_mode": {
    "name": "ipython",
    "version": 3
   },
   "file_extension": ".py",
   "mimetype": "text/x-python",
   "name": "python",
   "nbconvert_exporter": "python",
   "pygments_lexer": "ipython3",
   "version": "3.7.3"
  },
  "orig_nbformat": 4
 },
 "nbformat": 4,
 "nbformat_minor": 2
}
